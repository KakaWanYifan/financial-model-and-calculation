{
 "cells": [
  {
   "cell_type": "code",
   "execution_count": 31,
   "metadata": {
    "collapsed": true,
    "pycharm": {
     "name": "#%%\n"
    }
   },
   "outputs": [
    {
     "name": "stdout",
     "output_type": "stream",
     "text": [
      "t值= 4.243789356353936 双尾检验的P值 2.436583365338209e-05\n",
      "SP股票的收益的均值不等于零\n"
     ]
    }
   ],
   "source": [
    "# 第一问\n",
    "\n",
    "import pandas as pd\n",
    "\n",
    "df = pd.read_csv('m-ge3dx-4011.txt',delim_whitespace = True)\n",
    "\n",
    "from scipy import stats\n",
    "pop_mean=0\n",
    "t,p_two = stats.ttest_1samp(df['sp'],pop_mean)\n",
    "print('t值=',t,'双尾检验的P值',p_two)\n",
    "\n",
    "alpha = 0.05\n",
    "\n",
    "if(p_two < alpha):\n",
    "    print('SP股票的收益的均值不等于零')\n",
    "else:\n",
    "    print('SP股票的收益的均值等于零')"
   ]
  },
  {
   "cell_type": "code",
   "execution_count": 32,
   "outputs": [
    {
     "name": "stdout",
     "output_type": "stream",
     "text": [
      "p值 3.275294917526283e-11\n",
      "SP股票的收益率偏度不等于0\n"
     ]
    }
   ],
   "source": [
    "# 第二问\n",
    "\n",
    "import pandas as pd\n",
    "\n",
    "df = pd.read_csv('m-ge3dx-4011.txt',delim_whitespace = True)\n",
    "from scipy import stats\n",
    "p = stats.skewtest(df['sp'])[1]\n",
    "print('p值',p)\n",
    "alpha = 0.05\n",
    "if p < alpha:\n",
    "    print('SP股票的收益率偏度不等于0')\n",
    "else:\n",
    "    print('SP股票的收益率偏度等于0')"
   ],
   "metadata": {
    "collapsed": false,
    "pycharm": {
     "name": "#%%\n"
    }
   }
  },
  {
   "cell_type": "code",
   "execution_count": 33,
   "outputs": [
    {
     "name": "stdout",
     "output_type": "stream",
     "text": [
      "p值 4.992725622126931e-13\n",
      "SP股票的收益率峰度不等于3\n"
     ]
    }
   ],
   "source": [
    "# 第三问\n",
    "\n",
    "import pandas as pd\n",
    "\n",
    "df = pd.read_csv('m-ge3dx-4011.txt',delim_whitespace = True)\n",
    "from scipy import stats\n",
    "p = stats.kurtosistest(df['sp'])[1]\n",
    "print('p值',p)\n",
    "alpha = 0.05\n",
    "if p < alpha:\n",
    "    print('SP股票的收益率峰度不等于3')\n",
    "else:\n",
    "    print('SP股票的收益率峰度等于3')"
   ],
   "metadata": {
    "collapsed": false,
    "pycharm": {
     "name": "#%%\n"
    }
   }
  }
 ],
 "metadata": {
  "kernelspec": {
   "display_name": "Python 3",
   "language": "python",
   "name": "python3"
  },
  "language_info": {
   "codemirror_mode": {
    "name": "ipython",
    "version": 2
   },
   "file_extension": ".py",
   "mimetype": "text/x-python",
   "name": "python",
   "nbconvert_exporter": "python",
   "pygments_lexer": "ipython2",
   "version": "2.7.6"
  }
 },
 "nbformat": 4,
 "nbformat_minor": 0
}