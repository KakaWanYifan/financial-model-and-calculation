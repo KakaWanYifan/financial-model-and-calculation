{
 "cells": [
  {
   "cell_type": "code",
   "execution_count": 48,
   "metadata": {
    "pycharm": {
     "name": "#%%\n"
    }
   },
   "outputs": [
    {
     "ename": "Exception",
     "evalue": "抱歉，您每分钟最多访问该接口3次，权限的具体详情访问：https://tushare.pro/document/1?doc_id=108。",
     "output_type": "error",
     "traceback": [
      "\u001B[1;31m---------------------------------------------------------------------------\u001B[0m",
      "\u001B[1;31mException\u001B[0m                                 Traceback (most recent call last)",
      "\u001B[1;32m<ipython-input-48-687989197578>\u001B[0m in \u001B[0;36m<module>\u001B[1;34m\u001B[0m\n\u001B[0;32m      9\u001B[0m \u001B[0mpro\u001B[0m \u001B[1;33m=\u001B[0m \u001B[0mts\u001B[0m\u001B[1;33m.\u001B[0m\u001B[0mpro_api\u001B[0m\u001B[1;33m(\u001B[0m\u001B[1;33m)\u001B[0m\u001B[1;33m\u001B[0m\u001B[1;33m\u001B[0m\u001B[0m\n\u001B[0;32m     10\u001B[0m \u001B[1;33m\u001B[0m\u001B[0m\n\u001B[1;32m---> 11\u001B[1;33m \u001B[0mdf\u001B[0m \u001B[1;33m=\u001B[0m \u001B[0mpro\u001B[0m\u001B[1;33m.\u001B[0m\u001B[0mus_daily\u001B[0m\u001B[1;33m(\u001B[0m\u001B[0mts_code\u001B[0m\u001B[1;33m=\u001B[0m\u001B[1;34m'AAPL'\u001B[0m\u001B[1;33m,\u001B[0m \u001B[0mstart_date\u001B[0m\u001B[1;33m=\u001B[0m\u001B[1;34m'20190101'\u001B[0m\u001B[1;33m)\u001B[0m\u001B[1;33m\u001B[0m\u001B[1;33m\u001B[0m\u001B[0m\n\u001B[0m\u001B[0;32m     12\u001B[0m \u001B[0mdf\u001B[0m \u001B[1;33m=\u001B[0m \u001B[0mdf\u001B[0m\u001B[1;33m.\u001B[0m\u001B[0msort_values\u001B[0m\u001B[1;33m(\u001B[0m\u001B[0mby\u001B[0m\u001B[1;33m=\u001B[0m\u001B[1;34m'trade_date'\u001B[0m\u001B[1;33m,\u001B[0m \u001B[0mascending\u001B[0m\u001B[1;33m=\u001B[0m\u001B[1;32mTrue\u001B[0m\u001B[1;33m)\u001B[0m\u001B[1;33m\u001B[0m\u001B[1;33m\u001B[0m\u001B[0m\n\u001B[0;32m     13\u001B[0m \u001B[0mdf\u001B[0m\u001B[1;33m[\u001B[0m\u001B[1;34m'trade_date2'\u001B[0m\u001B[1;33m]\u001B[0m \u001B[1;33m=\u001B[0m \u001B[0mdf\u001B[0m\u001B[1;33m[\u001B[0m\u001B[1;34m'trade_date'\u001B[0m\u001B[1;33m]\u001B[0m\u001B[1;33m.\u001B[0m\u001B[0mcopy\u001B[0m\u001B[1;33m(\u001B[0m\u001B[1;33m)\u001B[0m\u001B[1;33m\u001B[0m\u001B[1;33m\u001B[0m\u001B[0m\n",
      "\u001B[1;32mc:\\python\\python38\\lib\\site-packages\\tushare\\pro\\client.py\u001B[0m in \u001B[0;36mquery\u001B[1;34m(self, api_name, fields, **kwargs)\u001B[0m\n\u001B[0;32m     42\u001B[0m             \u001B[0mresult\u001B[0m \u001B[1;33m=\u001B[0m \u001B[0mjson\u001B[0m\u001B[1;33m.\u001B[0m\u001B[0mloads\u001B[0m\u001B[1;33m(\u001B[0m\u001B[0mres\u001B[0m\u001B[1;33m.\u001B[0m\u001B[0mtext\u001B[0m\u001B[1;33m)\u001B[0m\u001B[1;33m\u001B[0m\u001B[1;33m\u001B[0m\u001B[0m\n\u001B[0;32m     43\u001B[0m             \u001B[1;32mif\u001B[0m \u001B[0mresult\u001B[0m\u001B[1;33m[\u001B[0m\u001B[1;34m'code'\u001B[0m\u001B[1;33m]\u001B[0m \u001B[1;33m!=\u001B[0m \u001B[1;36m0\u001B[0m\u001B[1;33m:\u001B[0m\u001B[1;33m\u001B[0m\u001B[1;33m\u001B[0m\u001B[0m\n\u001B[1;32m---> 44\u001B[1;33m                 \u001B[1;32mraise\u001B[0m \u001B[0mException\u001B[0m\u001B[1;33m(\u001B[0m\u001B[0mresult\u001B[0m\u001B[1;33m[\u001B[0m\u001B[1;34m'msg'\u001B[0m\u001B[1;33m]\u001B[0m\u001B[1;33m)\u001B[0m\u001B[1;33m\u001B[0m\u001B[1;33m\u001B[0m\u001B[0m\n\u001B[0m\u001B[0;32m     45\u001B[0m             \u001B[0mdata\u001B[0m \u001B[1;33m=\u001B[0m \u001B[0mresult\u001B[0m\u001B[1;33m[\u001B[0m\u001B[1;34m'data'\u001B[0m\u001B[1;33m]\u001B[0m\u001B[1;33m\u001B[0m\u001B[1;33m\u001B[0m\u001B[0m\n\u001B[0;32m     46\u001B[0m             \u001B[0mcolumns\u001B[0m \u001B[1;33m=\u001B[0m \u001B[0mdata\u001B[0m\u001B[1;33m[\u001B[0m\u001B[1;34m'fields'\u001B[0m\u001B[1;33m]\u001B[0m\u001B[1;33m\u001B[0m\u001B[1;33m\u001B[0m\u001B[0m\n",
      "\u001B[1;31mException\u001B[0m: 抱歉，您每分钟最多访问该接口3次，权限的具体详情访问：https://tushare.pro/document/1?doc_id=108。"
     ]
    }
   ],
   "source": [
    "# 第一问\n",
    "\n",
    "import tushare as ts\n",
    "import matplotlib.pyplot as plt\n",
    "from matplotlib.pylab import date2num\n",
    "import pandas as pd\n",
    "import numpy as np\n",
    "\n",
    "pro = ts.pro_api()\n",
    "\n",
    "df = pro.us_daily(ts_code='AAPL', start_date='20190101')\n",
    "df = df.sort_values(by='trade_date', ascending=True)\n",
    "df['trade_date2'] = df['trade_date'].copy()\n",
    "df['trade_date'] = pd.to_datetime(df['trade_date']).map(date2num)\n",
    "df['dates'] = np.arange(0, len(df))\n",
    "\n",
    "for ma in [5,10,30]:\n",
    "    df[str(ma)] = df.close.rolling(ma).mean()\n",
    "\n",
    "x= df.dates\n",
    "x_ticks_label = df.trade_date2\n",
    "\n",
    "plt.plot(df[['dates']],df['5'],color='red',label='5')\n",
    "plt.plot(df[['dates']],df['10'],color='blue',label='10')\n",
    "plt.plot(df[['dates']],df['30'],color='black',label='30')\n",
    "plt.xticks(x[::20],x_ticks_label[::20],rotation=90)\n",
    "plt.legend()\n",
    "plt.show()"
   ]
  },
  {
   "cell_type": "code",
   "execution_count": null,
   "outputs": [],
   "source": [
    "# 第二问\n",
    "\n",
    "import tushare as ts\n",
    "import matplotlib.pyplot as plt\n",
    "from matplotlib.pylab import date2num\n",
    "import pandas as pd\n",
    "import numpy as np\n",
    "import mpl_finance\n",
    "\n",
    "pro = ts.pro_api()\n",
    "\n",
    "# df = pro.us_daily(ts_code='AAPL', start_date='20190101')\n",
    "df = df.sort_values(by='trade_date', ascending=True)\n",
    "df['trade_date2'] = df['trade_date'].copy()\n",
    "df['trade_date'] = pd.to_datetime(df['trade_date']).map(date2num)\n",
    "df['dates'] = np.arange(0, len(df))\n",
    "\n",
    "fig, ax = plt.subplots(figsize=(10,5))\n",
    "\n",
    "mpl_finance.candlestick_ochl(\n",
    "    ax=ax,\n",
    "    quotes=df[['dates', 'open', 'close', 'high', 'low']].values,\n",
    "    width=0.7,\n",
    "    colorup='r',\n",
    "    colordown='g',\n",
    "    alpha=0.7)\n",
    "\n",
    "x= df.dates\n",
    "x_ticks_label = df.trade_date2\n",
    "plt.xticks(x[::20],x_ticks_label[::20],rotation=90)\n",
    "plt.show()"
   ],
   "metadata": {
    "collapsed": false,
    "pycharm": {
     "name": "#%%\n"
    }
   }
  },
  {
   "cell_type": "code",
   "execution_count": null,
   "outputs": [],
   "source": [
    "# 第三问\n",
    "\n",
    "import tushare as ts\n",
    "import math\n",
    "import matplotlib.pyplot as plt\n",
    "\n",
    "pro = ts.pro_api()\n",
    "\n",
    "#获取单一股票行情\n",
    "df = pro.us_daily(ts_code='AAPL', start_date='20190101')\n",
    "df = df.sort_values(by='trade_date', ascending=True)\n",
    "\n",
    "df['rate_log'] = df.apply(lambda x: math.log((x['open'] / x['close']),math.e), axis=1)\n",
    "\n",
    "x = df.trade_date\n",
    "y = df.rate_log\n",
    "\n",
    "plt.plot(x,y)\n",
    "plt.xticks(x[::20],rotation=90)\n",
    "plt.show()"
   ],
   "metadata": {
    "collapsed": false,
    "pycharm": {
     "name": "#%%\n"
    }
   }
  },
  {
   "cell_type": "code",
   "execution_count": null,
   "outputs": [],
   "source": [
    "# 第四问\n",
    "\n",
    "import tushare as ts\n",
    "import math\n",
    "from statsmodels.graphics.tsaplots import plot_acf\n",
    "\n",
    "pro = ts.pro_api()\n",
    "\n",
    "#获取单一股票行情\n",
    "df = pro.us_daily(ts_code='AAPL', start_date='20190101')\n",
    "df = df.sort_values(by='trade_date', ascending=True)\n",
    "\n",
    "df['rate_log'] = df.apply(lambda x: math.log((x['open'] / x['close']),math.e), axis=1)\n",
    "\n",
    "plot_acf(df['rate_log'])\n"
   ],
   "metadata": {
    "collapsed": false,
    "pycharm": {
     "name": "#%%\n"
    }
   }
  },
  {
   "cell_type": "code",
   "execution_count": null,
   "metadata": {},
   "outputs": [],
   "source": []
  }
 ],
 "metadata": {
  "kernelspec": {
   "display_name": "Python 3",
   "language": "python",
   "name": "python3"
  },
  "language_info": {
   "codemirror_mode": {
    "name": "ipython",
    "version": 3
   },
   "file_extension": ".py",
   "mimetype": "text/x-python",
   "name": "python",
   "nbconvert_exporter": "python",
   "pygments_lexer": "ipython3",
   "version": "3.8.3"
  }
 },
 "nbformat": 4,
 "nbformat_minor": 1
}