{
 "cells": [
  {
   "cell_type": "code",
   "execution_count": 76,
   "metadata": {
    "pycharm": {
     "name": "#%%\n"
    }
   },
   "outputs": [
    {
     "name": "stdout",
     "output_type": "stream",
     "text": [
      "           levelFour  levelSix\n",
      "levelFour   1.000000  0.964148\n",
      "levelSix    0.964148  1.000000\n"
     ]
    },
    {
     "data": {
      "text/plain": "<Figure size 432x288 with 1 Axes>",
      "image/png": "[encoded data removed]"
     },
     "metadata": {
      "needs_background": "light"
     },
     "output_type": "display_data"
    }
   ],
   "source": [
    "# 第一问\n",
    "\n",
    "import numpy as np\n",
    "import pandas as pd\n",
    "\n",
    "levelFour = np.array([98,85,89,84,81,70,92,67,84,80,60,81,73,70])\n",
    "levelSix = np.array([90,82,88,80,82,66,88,68,84,77,64,79,75,73])\n",
    "data = pd.DataFrame({\n",
    "    'levelFour':levelFour,\n",
    "    'levelSix':levelSix\n",
    "})\n",
    "\n",
    "# 求出这两者之间的相关系数\n",
    "print(data.corr())\n",
    "# 画出它们的散点图\n",
    "from matplotlib import pyplot as plt\n",
    "y = np.arange(0,levelFour.size,1)\n",
    "\n",
    "plt.scatter(y,levelFour,marker='*',label='levelFour')\n",
    "plt.scatter(y,levelSix,marker='.',label='levelSix')\n",
    "plt.legend(loc = 'upper right')\n",
    "plt.show()"
   ]
  },
  {
   "cell_type": "code",
   "execution_count": 77,
   "outputs": [
    {
     "name": "stdout",
     "output_type": "stream",
     "text": [
      "levelFour\n",
      "均值   79.57142857142857\n",
      "标准差   10.463962227306896\n",
      "偏度   -0.1695617201421985\n",
      "峰度   -0.3796252326410898\n",
      "\n",
      "\n",
      "levelSix\n",
      "均值   78.28571428571429\n",
      "标准差   8.27813218833044\n",
      "偏度   -0.36511259060435064\n",
      "峰度   -0.8538934689358708\n",
      "\n",
      "\n"
     ]
    }
   ],
   "source": [
    "# 第二问\n",
    "\n",
    "import numpy as np\n",
    "import pandas as pd\n",
    "\n",
    "levelFour = np.array([98,85,89,84,81,70,92,67,84,80,60,81,73,70])\n",
    "levelSix = np.array([90,82,88,80,82,66,88,68,84,77,64,79,75,73])\n",
    "data = pd.DataFrame({\n",
    "    'levelFour':levelFour,\n",
    "    'levelSix':levelSix\n",
    "})\n",
    "\n",
    "for k in ['levelFour','levelSix']:\n",
    "    print(k)\n",
    "    print('均值' + ' ' *3 + str(data[k].mean()))\n",
    "    print('标准差' + ' ' * 3 + str(data[k].std()))\n",
    "    # 偏度\n",
    "    print('偏度' + ' ' * 3 + str(data[k].skew()))\n",
    "    # 峰度\n",
    "    print('峰度' + ' ' * 3 + str(data[k].kurt()))\n",
    "    print('\\n')"
   ],
   "metadata": {
    "collapsed": false,
    "pycharm": {
     "name": "#%%\n"
    }
   }
  },
  {
   "cell_type": "code",
   "execution_count": 79,
   "outputs": [
    {
     "data": {
      "text/plain": "<Figure size 432x288 with 1 Axes>",
      "image/png": "[encoded data removed]"
     },
     "metadata": {
      "needs_background": "light"
     },
     "output_type": "display_data"
    }
   ],
   "source": [
    "# 第三问\n",
    "\n",
    "import numpy as np\n",
    "import pandas as pd\n",
    "\n",
    "levelFour = np.array([98,85,89,84,81,70,92,67,84,80,60,81,73,70])\n",
    "levelSix = np.array([90,82,88,80,82,66,88,68,84,77,64,79,75,73])\n",
    "data = pd.DataFrame({\n",
    "    'levelFour':levelFour,\n",
    "    'levelSix':levelSix\n",
    "})\n",
    "\n",
    "from matplotlib import pyplot as plt\n",
    "\n",
    "xFour = range(0,levelFour.size)\n",
    "xSix = [i + 0.2 for i in range(0,levelFour.size)]\n",
    "x_lalel = ['No '+ format(i) for i in xFour]\n",
    "plt.bar(xFour,levelFour,width=0.2,color='red',label='levelFour')\n",
    "plt.bar(xSix,levelSix,width=0.2,color='blue',label='levelSix')\n",
    "plt.xticks(xFour,x_lalel,rotation=90)\n",
    "plt.legend(loc = 'upper right')\n",
    "plt.show()"
   ],
   "metadata": {
    "collapsed": false,
    "pycharm": {
     "name": "#%%\n"
    }
   }
  },
  {
   "cell_type": "code",
   "execution_count": 81,
   "outputs": [
    {
     "name": "stderr",
     "output_type": "stream",
     "text": [
      "<ipython-input-81-61495eafd838>:16: UserWarning: In Matplotlib 3.3 individual lines on a stem plot will be added as a LineCollection instead of individual lines. This significantly improves the performance of a stem plot. To remove this warning and switch to the new behaviour, set the \"use_line_collection\" keyword argument to True.\n",
      "  plt.stem(x,levelFour)\n",
      "<ipython-input-81-61495eafd838>:19: UserWarning: In Matplotlib 3.3 individual lines on a stem plot will be added as a LineCollection instead of individual lines. This significantly improves the performance of a stem plot. To remove this warning and switch to the new behaviour, set the \"use_line_collection\" keyword argument to True.\n",
      "  plt.stem(x,levelSix)\n"
     ]
    },
    {
     "data": {
      "text/plain": "<Figure size 432x288 with 1 Axes>",
      "image/png": "[encoded data removed]"
     },
     "metadata": {
      "needs_background": "light"
     },
     "output_type": "display_data"
    },
    {
     "data": {
      "text/plain": "<Figure size 432x288 with 1 Axes>",
      "image/png": "[encoded data removed]"
     },
     "metadata": {
      "needs_background": "light"
     },
     "output_type": "display_data"
    }
   ],
   "source": [
    "# 第四问\n",
    "\n",
    "import numpy as np\n",
    "import pandas as pd\n",
    "\n",
    "levelFour = np.array([98,85,89,84,81,70,92,67,84,80,60,81,73,70])\n",
    "levelSix = np.array([90,82,88,80,82,66,88,68,84,77,64,79,75,73])\n",
    "data = pd.DataFrame({\n",
    "    'levelFour':levelFour,\n",
    "    'levelSix':levelSix\n",
    "})\n",
    "\n",
    "from matplotlib import pyplot as plt\n",
    "x = np.arange(0,levelFour.size,1)\n",
    "\n",
    "plt.stem(x,levelFour)\n",
    "plt.title('levelFour')\n",
    "plt.show()\n",
    "plt.stem(x,levelSix)\n",
    "plt.title('levelSix')\n",
    "plt.show()"
   ],
   "metadata": {
    "collapsed": false,
    "pycharm": {
     "name": "#%%\n"
    }
   }
  },
  {
   "cell_type": "code",
   "execution_count": null,
   "metadata": {},
   "outputs": [],
   "source": []
  }
 ],
 "metadata": {
  "kernelspec": {
   "display_name": "Python 3",
   "language": "python",
   "name": "python3"
  },
  "language_info": {
   "codemirror_mode": {
    "name": "ipython",
    "version": 3
   },
   "file_extension": ".py",
   "mimetype": "text/x-python",
   "name": "python",
   "nbconvert_exporter": "python",
   "pygments_lexer": "ipython3",
   "version": "3.8.3"
  }
 },
 "nbformat": 4,
 "nbformat_minor": 1
}