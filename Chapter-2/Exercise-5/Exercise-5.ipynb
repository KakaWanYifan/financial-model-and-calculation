{
 "cells": [
  {
   "cell_type": "code",
   "execution_count": 56,
   "metadata": {
    "collapsed": true,
    "pycharm": {
     "name": "#%%\n"
    }
   },
   "outputs": [
    {
     "name": "stdout",
     "output_type": "stream",
     "text": [
      "[ 0.0062917  -0.00251193 -0.00428482 ...  0.00500932 -0.0024373\n",
      " -0.00360268]\n"
     ]
    }
   ],
   "source": [
    "# 第一问\n",
    "\n",
    "import pandas as pd\n",
    "import numpy as np\n",
    "\n",
    "df = pd.read_csv('d-fx-usjp-0711.txt',delim_whitespace = True)\n",
    "df['rate_log'] = df.apply(lambda x: math.log(x['rate'],math.e), axis=1)\n",
    "\n",
    "print(np.diff(df['rate_log']))"
   ]
  },
  {
   "cell_type": "code",
   "execution_count": 57,
   "outputs": [
    {
     "name": "stdout",
     "output_type": "stream",
     "text": [
      "均值   -0.0003446921894018703\n",
      "标准差   0.0075146100501606965\n",
      "偏度   -0.4175117907034683\n",
      "峰度   4.873053676621373\n",
      "最大值   0.030592852978797325\n",
      "最小值   -0.05215647959436165\n"
     ]
    }
   ],
   "source": [
    "# 第二问\n",
    "\n",
    "import pandas as pd\n",
    "import numpy as np\n",
    "import math\n",
    "\n",
    "df = pd.read_csv('d-fx-usjp-0711.txt',delim_whitespace = True)\n",
    "df['rate_log'] = df.apply(lambda x: math.log(x['rate'],math.e), axis=1)\n",
    "\n",
    "diffDf = pd.DataFrame({\n",
    "    'diff':np.diff(df['rate_log'])\n",
    "})\n",
    "\n",
    "print('均值' + ' ' *3 + str(diffDf['diff'].mean()))\n",
    "print('标准差' + ' ' * 3 + str(diffDf['diff'].std()))\n",
    "# 偏度\n",
    "print('偏度' + ' ' * 3 + str(diffDf['diff'].skew()))\n",
    "# 峰度\n",
    "print('峰度' + ' ' * 3 + str(diffDf['diff'].kurt()))\n",
    "print('最大值' + ' ' * 3 + str(diffDf['diff'].max()))\n",
    "print('最小值' + ' ' * 3 + str(diffDf['diff'].min()))"
   ],
   "metadata": {
    "collapsed": false,
    "pycharm": {
     "name": "#%%\n"
    }
   }
  },
  {
   "cell_type": "code",
   "execution_count": 58,
   "outputs": [
    {
     "data": {
      "text/plain": "<Figure size 432x288 with 1 Axes>",
      "image/png": "[encoded data removed]"
     },
     "metadata": {
      "needs_background": "light"
     },
     "output_type": "display_data"
    }
   ],
   "source": [
    "# 第三问\n",
    "\n",
    "import pandas as pd\n",
    "# 导入 matplotlib.pyplot，用以画图\n",
    "from matplotlib import pyplot as plt\n",
    "\n",
    "df = pd.read_csv('d-fx-usjp-0711.txt',delim_whitespace = True)\n",
    "\n",
    "df['year'] = df['year'].astype('str')\n",
    "df['mon'] = df['mon'].astype('str')\n",
    "df['day'] = df['day'].astype('str')\n",
    "\n",
    "df['date'] = pd.to_datetime(df['year'].str.cat([df['mon'],df['day']],sep='-'))\n",
    "\n",
    "\n",
    "x = df[['date']].values\n",
    "y = df[['rate']].values\n",
    "\n",
    "plt.plot(x,y)\n",
    "plt.show()"
   ],
   "metadata": {
    "collapsed": false,
    "pycharm": {
     "name": "#%%\n"
    }
   }
  },
  {
   "cell_type": "code",
   "execution_count": 59,
   "outputs": [
    {
     "name": "stdout",
     "output_type": "stream",
     "text": [
      "Ttest_1sampResult(statistic=-1.6132803474573114, pvalue=0.10693887848638878)\n"
     ]
    }
   ],
   "source": [
    "# 第四问\n",
    "\n",
    "import pandas as pd\n",
    "import numpy as np\n",
    "import math\n",
    "\n",
    "df = pd.read_csv('d-fx-usjp-0711.txt',delim_whitespace = True)\n",
    "\n",
    "df['rate_log'] = df.apply(lambda x: math.log(x['rate'],math.e), axis=1)\n",
    "\n",
    "diffDf = pd.DataFrame({\n",
    "    'diff':np.diff(df['rate_log'])\n",
    "})\n",
    "\n",
    "from scipy import stats\n",
    "pop_mean=0\n",
    "print(stats.ttest_1samp(diffDf['diff'],pop_mean))\n"
   ],
   "metadata": {
    "collapsed": false,
    "pycharm": {
     "name": "#%%\n"
    }
   }
  }
 ],
 "metadata": {
  "kernelspec": {
   "display_name": "Python 3",
   "language": "python",
   "name": "python3"
  },
  "language_info": {
   "codemirror_mode": {
    "name": "ipython",
    "version": 2
   },
   "file_extension": ".py",
   "mimetype": "text/x-python",
   "name": "python",
   "nbconvert_exporter": "python",
   "pygments_lexer": "ipython2",
   "version": "2.7.6"
  }
 },
 "nbformat": 4,
 "nbformat_minor": 0
}