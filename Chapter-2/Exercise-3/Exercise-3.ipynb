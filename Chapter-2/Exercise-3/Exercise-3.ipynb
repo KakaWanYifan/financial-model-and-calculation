{
 "cells": [
  {
   "cell_type": "code",
   "execution_count": 20,
   "metadata": {
    "collapsed": true
   },
   "outputs": [
    {
     "name": "stdout",
     "output_type": "stream",
     "text": [
      "t值= 0.35998718143540415 双尾检验的P值 0.7188867193267378\n",
      "AXP股票的对数收益的均值不等于零\n"
     ]
    }
   ],
   "source": [
    "import pandas as pd\n",
    "import math\n",
    "\n",
    "df = pd.read_csv('d-axp3dx-0111.txt',delim_whitespace = True)\n",
    "\n",
    "df['axp_log'] = df.apply(lambda x: math.log(x['axp'] + 1), axis=1)\n",
    "\n",
    "from scipy import stats\n",
    "pop_mean=math.log(1)\n",
    "t,p_two = stats.ttest_1samp(df['axp_log'],pop_mean)\n",
    "print('t值=',t,'双尾检验的P值',p_two)\n",
    "\n",
    "alpha = 0.05\n",
    "\n",
    "if(p_two < alpha):\n",
    "    print('AXP股票的对数收益的均值等于零')\n",
    "else:\n",
    "    print('AXP股票的对数收益的均值不等于零')\n"
   ]
  }
 ],
 "metadata": {
  "kernelspec": {
   "display_name": "Python 3",
   "language": "python",
   "name": "python3"
  },
  "language_info": {
   "codemirror_mode": {
    "name": "ipython",
    "version": 2
   },
   "file_extension": ".py",
   "mimetype": "text/x-python",
   "name": "python",
   "nbconvert_exporter": "python",
   "pygments_lexer": "ipython2",
   "version": "2.7.6"
  }
 },
 "nbformat": 4,
 "nbformat_minor": 0
}