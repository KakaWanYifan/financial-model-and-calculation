{
 "cells": [
  {
   "cell_type": "code",
   "execution_count": 11,
   "metadata": {
    "collapsed": true
   },
   "outputs": [
    {
     "name": "stdout",
     "output_type": "stream",
     "text": [
      "极大似然估计\n",
      "平均值= 240.93333333333334\n",
      "标准差=  98.69985928167385\n",
      "\n",
      "\n",
      "区间估计\n",
      "t值= 0.6040239043549231 双尾检验的P值 0.5554898769672549\n",
      "元件的平均寿命大于225小时\n"
     ]
    }
   ],
   "source": [
    "import pandas as pd\n",
    "\n",
    "dataSer = pd.Series([159,280,101,212,224,379,179,264,222,362,168,149,260,485,170])\n",
    "\n",
    "# 极大似然估计\n",
    "print('极大似然估计')\n",
    "mean,std = stats.norm.fit(dataSer)\n",
    "print('平均值=', mean)\n",
    "print('标准差= ', std)\n",
    "\n",
    "print('\\n')\n",
    "\n",
    "# 区间估计\n",
    "print('区间估计')\n",
    "from scipy import stats\n",
    "pop_mean=225\n",
    "t,p_two = stats.ttest_1samp(dataSer,pop_mean)\n",
    "print('t值=',t,'双尾检验的P值',p_two)\n",
    "\n",
    "alpha = 0.05\n",
    "\n",
    "if(p_two < alpha):\n",
    "    print('元件的平均寿命小于225小时')\n",
    "else:\n",
    "    print('元件的平均寿命大于225小时')\n"
   ]
  }
 ],
 "metadata": {
  "kernelspec": {
   "display_name": "Python 3",
   "language": "python",
   "name": "python3"
  },
  "language_info": {
   "codemirror_mode": {
    "name": "ipython",
    "version": 2
   },
   "file_extension": ".py",
   "mimetype": "text/x-python",
   "name": "python",
   "nbconvert_exporter": "python",
   "pygments_lexer": "ipython2",
   "version": "2.7.6"
  }
 },
 "nbformat": 4,
 "nbformat_minor": 0
}