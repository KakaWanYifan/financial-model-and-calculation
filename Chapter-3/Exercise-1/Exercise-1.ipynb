{
 "cells": [
  {
   "cell_type": "code",
   "execution_count": 15,
   "metadata": {
    "pycharm": {
     "is_executing": false
    }
   },
   "outputs": [
    {
     "data": {
      "text/plain": "<Figure size 432x288 with 1 Axes>",
      "image/png": "[encoded data removed]"
     },
     "metadata": {
      "needs_background": "light"
     },
     "output_type": "display_data"
    }
   ],
   "source": [
    "import numpy as np\n",
    "from matplotlib import pyplot as plt\n",
    "\n",
    "mu ,sigma = 100, 10\n",
    "sampleNo = 1000\n",
    "s = np.random.normal(mu, sigma, sampleNo)\n",
    "fig = plt.figure()  \n",
    "ax1 = fig.add_subplot()\n",
    "ax1.hist(s,bins=100)\n",
    "plt.show()\n"
   ]
  },
  {
   "cell_type": "code",
   "execution_count": 16,
   "metadata": {
    "pycharm": {
     "is_executing": false
    }
   },
   "outputs": [
    {
     "data": {
      "text/plain": "<Figure size 432x288 with 1 Axes>",
      "image/png": "[encoded data removed]"
     },
     "metadata": {
      "needs_background": "light"
     },
     "output_type": "display_data"
    }
   ],
   "source": [
    "import numpy as np\n",
    "from matplotlib import pyplot as plt\n",
    "\n",
    "mu ,sigma = 100, 10\n",
    "sampleNo = 1000\n",
    "s = np.random.normal(mu, sigma, sampleNo)\n",
    "\n",
    "# 随机有放回的抽样，500\n",
    "s = np.random.choice(a=s,size=500,replace=True)\n",
    "\n",
    "fig = plt.figure()  \n",
    "ax1 = fig.add_subplot()\n",
    "ax1.hist(s,bins=100)\n",
    "plt.show()"
   ]
  },
  {
   "cell_type": "code",
   "execution_count": 17,
   "outputs": [
    {
     "name": "stdout",
     "text": [
      "随机有放回抽样前\n",
      "99.72563508617185\n",
      "103.70279319719799\n",
      "随机有放回抽样后\n",
      "99.91320903343082\n",
      "89.70336459956461\n"
     ],
     "output_type": "stream"
    }
   ],
   "source": [
    "import numpy as np\n",
    "\n",
    "mu ,sigma = 100, 10\n",
    "sampleNo = 1000\n",
    "s = np.random.normal(mu, sigma, sampleNo)\n",
    "\n",
    "print(\"随机有放回抽样前\")\n",
    "print(np.mean(s))\n",
    "print(np.var(s))\n",
    "\n",
    "print(\"随机有放回抽样后\")\n",
    "# 随机有放回的抽样，500\n",
    "s = np.random.choice(a=s,size=500,replace=True)\n",
    "print(np.mean(s))\n",
    "print(np.var(s))\n",
    "\n"
   ],
   "metadata": {
    "collapsed": false,
    "pycharm": {
     "name": "#%%\n",
     "is_executing": false
    }
   }
  }
 ],
 "metadata": {
  "kernelspec": {
   "display_name": "Python 3",
   "language": "python",
   "name": "python3"
  },
  "language_info": {
   "codemirror_mode": {
    "name": "ipython",
    "version": 3
   },
   "file_extension": ".py",
   "mimetype": "text/x-python",
   "name": "python",
   "nbconvert_exporter": "python",
   "pygments_lexer": "ipython3",
   "version": "3.7.4"
  },
  "pycharm": {
   "stem_cell": {
    "cell_type": "raw",
    "source": [],
    "metadata": {
     "collapsed": false
    }
   }
  }
 },
 "nbformat": 4,
 "nbformat_minor": 1
}