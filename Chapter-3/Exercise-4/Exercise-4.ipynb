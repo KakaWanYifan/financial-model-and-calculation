{
 "cells": [
  {
   "cell_type": "code",
   "execution_count": 15,
   "outputs": [
    {
     "name": "stdout",
     "text": [
      "dec2\n",
      "[ 1.00000000e+00  1.14381232e-01 -5.35295156e-02  4.22201333e-04\n",
      "  3.32119592e-02  3.54196271e-02 -6.35817101e-02 -8.84216206e-03\n",
      " -6.27358745e-02 -3.52485985e-02  6.98192857e-03 -7.13094850e-03\n",
      "  1.54844240e-02]\n",
      "[[ 1.          1.        ]\n",
      " [ 0.03495948  0.19380298]\n",
      " [-0.13398363  0.0269246 ]\n",
      " [-0.08025626  0.08110066]\n",
      " [-0.04746652  0.11389043]\n",
      " [-0.04534504  0.1161843 ]\n",
      " [-0.1444443   0.01728088]\n",
      " [-0.09001949  0.07233517]\n",
      " [-0.14391928  0.01844753]\n",
      " [-0.11673724  0.04624004]\n",
      " [-0.07460283  0.08856668]\n",
      " [-0.08871947  0.07445758]\n",
      " [-0.06610803  0.09707688]]\n",
      "dec10\n",
      "[ 1.          0.21933792 -0.00539058 -0.01418971 -0.00417032 -0.01545752\n",
      " -0.04041862 -0.02533684 -0.06571663 -0.04001759  0.00737603  0.04865837\n",
      "  0.13519253]\n",
      "[[ 1.          1.        ]\n",
      " [ 0.13991618  0.29875967]\n",
      " [-0.0885455   0.07776434]\n",
      " [-0.09734684  0.06896741]\n",
      " [-0.08734271  0.07900208]\n",
      " [-0.09863123  0.0677162 ]\n",
      " [-0.12361045  0.04277322]\n",
      " [-0.10865245  0.05797877]\n",
      " [-0.14908083  0.01764757]\n",
      " [-0.12370793  0.04367275]\n",
      " [-0.07643492  0.09118698]\n",
      " [-0.03515667  0.13247342]\n",
      " [ 0.05119949  0.21918557]]\n"
     ],
     "output_type": "stream"
    }
   ],
   "source": [
    "import pandas as pd\n",
    "import statsmodels.tsa.api as smt\n",
    "\n",
    "dt = pd.read_csv('m-dec125910-6111.txt',delim_whitespace = True)\n",
    "\n",
    "print('dec2')\n",
    "acf,confint = smt.stattools.acf(dt['dec2'].values,nlags=12,alpha=0.05)\n",
    "print(acf)\n",
    "print(confint)\n",
    "\n",
    "print('dec10')\n",
    "acf,confint = smt.stattools.acf(dt['dec10'].values,nlags=12,alpha=0.05)\n",
    "print(acf)\n",
    "print(confint)\n"
   ],
   "metadata": {
    "collapsed": false,
    "pycharm": {
     "name": "#%%\n",
     "is_executing": false
    }
   }
  },
  {
   "cell_type": "code",
   "execution_count": 16,
   "metadata": {
    "collapsed": true,
    "pycharm": {
     "is_executing": false,
     "name": "#%%\n"
    }
   },
   "outputs": [
    {
     "name": "stderr",
     "text": [
      "/Library/Frameworks/Python.framework/Versions/3.7/lib/python3.7/site-packages/statsmodels/base/model.py:492: HessianInversionWarning: Inverting hessian failed, no bse or cov_params available\n",
      "  'available', HessianInversionWarning)\n"
     ],
     "output_type": "stream"
    },
    {
     "name": "stdout",
     "text": [
      "(0, 1)\n"
     ],
     "output_type": "stream"
    }
   ],
   "source": [
    "import pandas as pd\n",
    "import statsmodels.api as sm\n",
    "\n",
    "dt = pd.read_csv('m-dec125910-6111.txt',delim_whitespace = True)\n",
    "\n",
    "print(sm.tsa.arma_order_select_ic(dt['dec2'].values,max_ar=6,max_ma=4,ic='aic')['aic_min_order'])"
   ]
  }
 ],
 "metadata": {
  "kernelspec": {
   "display_name": "Python 3",
   "language": "python",
   "name": "python3"
  },
  "language_info": {
   "codemirror_mode": {
    "name": "ipython",
    "version": 2
   },
   "file_extension": ".py",
   "mimetype": "text/x-python",
   "name": "python",
   "nbconvert_exporter": "python",
   "pygments_lexer": "ipython2",
   "version": "2.7.6"
  },
  "pycharm": {
   "stem_cell": {
    "cell_type": "raw",
    "source": [],
    "metadata": {
     "collapsed": false
    }
   }
  }
 },
 "nbformat": 4,
 "nbformat_minor": 0
}