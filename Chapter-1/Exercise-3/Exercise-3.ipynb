{
  "cells": [
    {
      "cell_type": "code",
      "execution_count": 10,
      "metadata": {
        "collapsed": true,
        "pycharm": {
          "is_executing": false
        }
      },
      "outputs": [
        {
          "name": "stdout",
          "text": [
            "[0.78333333]\n18.172222222222224\n一元线性回归方程为: y\u003d18.172222222222224 + [0.78333333]*x\n"
          ],
          "output_type": "stream"
        }
      ],
      "source": "# 第一问\n\nfrom sklearn.linear_model import LinearRegression\nimport numpy as np\n\nx \u003d [79,75,77,73,78,81,76,72,70]\ny \u003d [80,82,76,77,84,81,72,70,75]\n\nlr \u003d LinearRegression()\nlr.fit(np.array(x).reshape(-1,1),y)\nprint(lr.coef_)\nprint(lr.intercept_)\nprint(\u0027一元线性回归方程为: \u0027+\u0027y\u0027 + \u0027\u003d\u0027 + str(lr.intercept_)+\u0027 + \u0027 +str(lr.coef_) + \u0027*x\u0027)\n"
    },
    {
      "cell_type": "code",
      "execution_count": 15,
      "outputs": [
        {
          "name": "stdout",
          "text": [
            "[6.73496314e-12]\n"
          ],
          "output_type": "stream"
        }
      ],
      "source": "# 第二问\nimport statsmodels.api as sm\nprint(sm.OLS(y,x).fit().pvalues)\n\n",
      "metadata": {
        "pycharm": {
          "metadata": false,
          "name": "#%%\n",
          "is_executing": false
        }
      }
    },
    {
      "cell_type": "code",
      "execution_count": 12,
      "outputs": [
        {
          "name": "stdout",
          "text": [
            "[73.78888889]\n"
          ],
          "output_type": "stream"
        }
      ],
      "source": "\nx_predict \u003d [71]\nprint(lr.predict(np.array(x_predict).reshape(-1,1)))\n",
      "metadata": {
        "pycharm": {
          "metadata": false,
          "name": "#%%\n",
          "is_executing": false
        }
      }
    }
  ],
  "metadata": {
    "language_info": {
      "codemirror_mode": {
        "name": "ipython",
        "version": 2
      },
      "file_extension": ".py",
      "mimetype": "text/x-python",
      "name": "python",
      "nbconvert_exporter": "python",
      "pygments_lexer": "ipython2",
      "version": "2.7.6"
    },
    "kernelspec": {
      "name": "python3",
      "language": "python",
      "display_name": "Python 3"
    }
  },
  "nbformat": 4,
  "nbformat_minor": 0
}