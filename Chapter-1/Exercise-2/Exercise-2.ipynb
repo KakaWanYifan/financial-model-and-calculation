{
  "cells": [
    {
      "cell_type": "code",
      "execution_count": 26,
      "metadata": {
        "collapsed": true,
        "pycharm": {
          "is_executing": false
        }
      },
      "outputs": [
        {
          "name": "stdout",
          "text": [
            "axp\n均值   0.000533948717948718\n标准差   0.026368406811986583\n偏度   0.4603179756054301\n峰度   9.623329664672113\n最大值   0.206485\n最小值   -0.175949\n\n\nvw\n均值   0.00022406153846153844\n标准差   0.013651835330332094\n偏度   -0.09843483120957383\n峰度   8.008957349657706\n最大值   0.114889\n最小值   -0.089762\n\n\new\n均值   0.0006258232741617356\n标准差   0.012080369186962037\n偏度   -0.2477032329471355\n峰度   8.135600589820209\n最大值   0.107422\n最小值   -0.07824\n\n\nsp\n均值   9.422840236686389e-05\n标准差   0.013779116971407941\n偏度   0.008161598940268256\n峰度   8.56101370353777\n最大值   0.1158\n最小值   -0.09035\n\n\n"
          ],
          "output_type": "stream"
        }
      ],
      "source": "\nimport pandas as pd\n\ndf \u003d pd.read_csv(\u0027d-axp3dx-0111.txt\u0027,delim_whitespace \u003d True)\nfor k in [\u0027axp\u0027,\u0027vw\u0027,\u0027ew\u0027,\u0027sp\u0027]:\n    print(k)\n    print(\u0027均值\u0027 + \u0027 \u0027 *3 + str(df[k].mean()))\n    print(\u0027标准差\u0027 + \u0027 \u0027 * 3 + str(df[k].std()))\n    # 偏度\n    print(\u0027偏度\u0027 + \u0027 \u0027 * 3 + str(df[k].skew()))\n    # 峰度\n    print(\u0027峰度\u0027 + \u0027 \u0027 * 3 + str(df[k].kurt()))\n    print(\u0027最大值\u0027 + \u0027 \u0027 * 3 + str(df[k].max()))\n    print(\u0027最小值\u0027 + \u0027 \u0027 * 3 + str(df[k].min()))\n    print(\u0027\\n\u0027)"
    },
    {
      "cell_type": "code",
      "execution_count": 28,
      "outputs": [
        {
          "name": "stdout",
          "text": [
            "axp\n均值   0.0001880014136029377\n标准差   0.026294387576735707\n偏度   0.02101665279290005\n峰度   9.050195096827077\n最大值   0.18771117334921902\n最小值   -0.1935228577840872\n\n\nvw\n均值   0.0001307503587262582\n标准差   0.013670358972095054\n偏度   -0.3007080567155763\n峰度   7.906623231123868\n最大值   0.10875484838698898\n最小值   -0.09404917520492419\n\n\new\n均值   0.0005525758364483264\n标准差   0.01209955048903987\n偏度   -0.42782121785230354\n峰度   8.044633729746181\n最大值   0.10203479156301737\n最小值   -0.08147039299806404\n\n\nsp\n均值   -7.486380122537771e-07\n标准差   0.013790413376831727\n偏度   -0.20660133413839948\n峰度   8.350592104368243\n最大值   0.10957163642929083\n最小值   -0.09469536883932453\n\n\n"
          ],
          "output_type": "stream"
        }
      ],
      "source": "\nimport math\n\nfor k in [\u0027axp\u0027,\u0027vw\u0027,\u0027ew\u0027,\u0027sp\u0027]:\n    df[k + \u0027_log\u0027] \u003d df.apply(lambda x: math.log(x[k] + 1,math.e), axis\u003d1)\n\nfor k in [\u0027axp\u0027,\u0027vw\u0027,\u0027ew\u0027,\u0027sp\u0027]:\n    print(k)\n    k \u003d k + \u0027_log\u0027\n    print(\u0027均值\u0027 + \u0027 \u0027 *3 + str(df[k].mean()))\n    print(\u0027标准差\u0027 + \u0027 \u0027 * 3 + str(df[k].std()))\n    # 偏度\n    print(\u0027偏度\u0027 + \u0027 \u0027 * 3 + str(df[k].skew()))\n    # 峰度\n    print(\u0027峰度\u0027 + \u0027 \u0027 * 3 + str(df[k].kurt()))\n    print(\u0027最大值\u0027 + \u0027 \u0027 * 3 + str(df[k].max()))\n    print(\u0027最小值\u0027 + \u0027 \u0027 * 3 + str(df[k].min()))\n    print(\u0027\\n\u0027)\n\n",
      "metadata": {
        "pycharm": {
          "metadata": false,
          "name": "#%%\n",
          "is_executing": false
        }
      }
    }
  ],
  "metadata": {
    "language_info": {
      "codemirror_mode": {
        "name": "ipython",
        "version": 2
      },
      "file_extension": ".py",
      "mimetype": "text/x-python",
      "name": "python",
      "nbconvert_exporter": "python",
      "pygments_lexer": "ipython2",
      "version": "2.7.6"
    },
    "kernelspec": {
      "name": "python3",
      "language": "python",
      "display_name": "Python 3"
    }
  },
  "nbformat": 4,
  "nbformat_minor": 0
}