{
 "cells": [
  {
   "cell_type": "code",
   "execution_count": 8,
   "outputs": [],
   "source": [
    "# 第一问\n",
    "# 略\n"
   ],
   "metadata": {
    "pycharm": {
     "metadata": false,
     "name": "#%%\n",
     "is_executing": false
    }
   }
  },
  {
   "cell_type": "code",
   "execution_count": 9,
   "outputs": [
    {
     "name": "stdout",
     "text": [
      "                开盘价      收盘价       最高价       最低价\n",
      "日期                                              \n",
      "2020-01-02  135.200  135.775  135.8200  135.0900\n",
      "2020-01-03  134.000  134.500  134.6730  134.0000\n",
      "2020-01-06  133.290  133.925  134.2770  133.2100\n",
      "2020-01-07  133.420  134.775  134.8150  133.4200\n",
      "2020-01-08  134.240  135.075  135.2580  134.2400\n",
      "...             ...      ...       ...       ...\n",
      "2020-06-08  132.270  133.875  134.9950  132.2700\n",
      "2020-06-09  133.310  132.025  133.5200  131.2078\n",
      "2020-06-10  131.605  131.150  131.6050  130.3000\n",
      "2020-06-11  126.000  122.300  126.0000  118.6600\n",
      "2020-06-12  121.400  120.500  122.8177  119.9100\n",
      "\n",
      "[113 rows x 4 columns]\n"
     ],
     "output_type": "stream"
    }
   ],
   "source": [
    "\n",
    "# 导入一个包，pandas，用以读取excel\n",
    "import pandas as pd\n",
    "df = pd.read_excel('IBM.xlsx',index_col='日期')\n",
    "print(df)"
   ],
   "metadata": {
    "pycharm": {
     "metadata": false,
     "name": "#%%\n",
     "is_executing": false
    }
   }
  }
 ],
 "metadata": {
  "language_info": {
   "codemirror_mode": {
    "name": "ipython",
    "version": 2
   },
   "file_extension": ".py",
   "mimetype": "text/x-python",
   "name": "python",
   "nbconvert_exporter": "python",
   "pygments_lexer": "ipython2",
   "version": "2.7.6"
  },
  "kernelspec": {
   "name": "python3",
   "language": "python",
   "display_name": "Python 3"
  },
  "stem_cell": {
   "cell_type": "raw",
   "source": "",
   "metadata": {
    "pycharm": {
     "metadata": false
    }
   }
  },
  "pycharm": {
   "stem_cell": {
    "cell_type": "raw",
    "source": [],
    "metadata": {
     "collapsed": false
    }
   }
  }
 },
 "nbformat": 4,
 "nbformat_minor": 0
}