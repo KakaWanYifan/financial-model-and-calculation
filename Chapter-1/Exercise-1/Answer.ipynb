{
  "cells": [
    {
      "cell_type": "code",
      "execution_count": null,
      "outputs": [],
      "source": "# 第一问\n# 略\n",
      "metadata": {
        "pycharm": {
          "metadata": false,
          "name": "#%%\n"
        }
      }
    },
    {
      "cell_type": "code",
      "execution_count": 8,
      "outputs": [
        {
          "name": "stdout",
          "text": [
            "          IBM       开盘价      收盘价       最高价       最低价\n0   2020-01-02  135.200  135.775  135.8200  135.0900\n1   2020-01-03  134.000  134.500  134.6730  134.0000\n2   2020-01-06  133.290  133.925  134.2770  133.2100\n3   2020-01-07  133.420  134.775  134.8150  133.4200\n4   2020-01-08  134.240  135.075  135.2580  134.2400\n..         ...      ...      ...       ...       ...\n109 2020-06-09  133.310  132.025  133.5200  131.2078\n110 2020-06-10  131.605  131.150  131.6050  130.3000\n111 2020-06-11  126.000  122.300  126.0000  118.6600\n112 2020-06-12  121.400  120.500  122.8177  119.9100\n113 2020-06-15    0.000  120.500    0.0000    0.0000\n\n[114 rows x 5 columns]\n"
          ],
          "output_type": "stream"
        }
      ],
      "source": "\n# 导入一个包，pandas，用以读取excel\nimport pandas as pd\ndf \u003d pd.read_excel(\u0027IBM.xlsx\u0027)\nprint(df)",
      "metadata": {
        "pycharm": {
          "metadata": false,
          "name": "#%%\n",
          "is_executing": false
        }
      }
    }
  ],
  "metadata": {
    "language_info": {
      "codemirror_mode": {
        "name": "ipython",
        "version": 2
      },
      "file_extension": ".py",
      "mimetype": "text/x-python",
      "name": "python",
      "nbconvert_exporter": "python",
      "pygments_lexer": "ipython2",
      "version": "2.7.6"
    },
    "kernelspec": {
      "name": "python3",
      "language": "python",
      "display_name": "Python 3"
    },
    "stem_cell": {
      "cell_type": "raw",
      "source": "",
      "metadata": {
        "pycharm": {
          "metadata": false
        }
      }
    }
  },
  "nbformat": 4,
  "nbformat_minor": 0
}